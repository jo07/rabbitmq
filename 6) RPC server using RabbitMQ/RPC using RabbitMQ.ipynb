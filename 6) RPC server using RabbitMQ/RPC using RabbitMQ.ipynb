{
 "cells": [
  {
   "cell_type": "markdown",
   "metadata": {},
   "source": [
    "# <font color='dimgrey'> RPC using RabbitMQ </font>\n"
   ]
  },
  {
   "cell_type": "markdown",
   "metadata": {},
   "source": [
    "## <font color='grey'> What's an RPC </font><br>\n",
    "<font color='grey'>\n",
    "It's a remote procedural call when made, the client waits for the response from the remote server while blocking the client  </font>"
   ]
  },
  {
   "cell_type": "markdown",
   "metadata": {},
   "source": [
    "## <font color='grey'> How to make an rpc using rabbitmq </font><br>\n",
    "\n",
    "<font color='grey'>\n",
    "It can be summarized in the following steps  <br>\n",
    "    1. A client publishes a message to the rpc queue with a callback queue name in the request and a correlation_id<br>\n",
    "    2. Server is listening to the request. It process the call, publishes a message to the callback queue it recieved from the first step<br>\n",
    "    3. Client is listening to this queue, it checks the response and the correlation_id with it.<br>\n",
    "    4. Client compares the correlation_id with the correlation_id it send in the first step, if matches saves the response/answer\n",
    "</font>"
   ]
  },
  {
   "cell_type": "markdown",
   "metadata": {},
   "source": [
    "<img src=\"https://www.rabbitmq.com/img/tutorials/python-six.png\"/>"
   ]
  }
 ],
 "metadata": {
  "kernelspec": {
   "display_name": "Python 3",
   "language": "python",
   "name": "python3"
  },
  "language_info": {
   "codemirror_mode": {
    "name": "ipython",
    "version": 3
   },
   "file_extension": ".py",
   "mimetype": "text/x-python",
   "name": "python",
   "nbconvert_exporter": "python",
   "pygments_lexer": "ipython3",
   "version": "3.8.3"
  }
 },
 "nbformat": 4,
 "nbformat_minor": 4
}
