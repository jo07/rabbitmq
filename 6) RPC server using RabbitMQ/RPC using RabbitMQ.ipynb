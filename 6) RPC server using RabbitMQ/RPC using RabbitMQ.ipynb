{
 "cells": [
  {
   "cell_type": "markdown",
   "metadata": {},
   "source": [
    "# <font color='dimgrey'> RPC using RabbitMQ </font>\n"
   ]
  },
  {
   "cell_type": "markdown",
   "metadata": {},
   "source": [
    "## <font color='grey'> What's an RPC </font><br>\n",
    "<font color='grey'>\n",
    "It's a remote procedural call when made, the client waits for the response from the remote server while blocking the client  </font>"
   ]
  },
  {
   "cell_type": "markdown",
   "metadata": {},
   "source": [
    "## <font color='grey'> How to make an rpc using rabbitmq </font><br>\n",
    "\n",
    "<font color='grey'>\n",
    "It can be summarized in the following steps  <br>\n",
    "    1. A client publishes a message to the rpc queue with a callback queue name in the request and a correlation_id<br>\n",
    "    2. Server is listening to the request, recieves it, callback queue and corr_id. It process the request, publishes a message to the callback queue using the corr_id<br>\n",
    "    3. Client is listening to this queue, it checks the response and the correlation_id with it.<br>\n",
    "    4. Client compares the correlation_id with the correlation_id it send in the first step, if matches saves the response/answer\n",
    "</font>"
   ]
  },
  {
   "cell_type": "markdown",
   "metadata": {},
   "source": [
    "<img src=\"https://www.rabbitmq.com/img/tutorials/python-six.png\"/>"
   ]
  },
  {
   "cell_type": "markdown",
   "metadata": {},
   "source": [
    "## <font color='grey'> Step 1: Client sents request with callback queue and correlation_id </font><br>\n"
   ]
  },
  {
   "cell_type": "code",
   "execution_count": null,
   "metadata": {},
   "outputs": [],
   "source": [
    "class FibonacciRpcClient(object):\n",
    "\n",
    "    def __init__(self):\n",
    "        self.connection = pika.BlockingConnection(\n",
    "            pika.ConnectionParameters(host='localhost'))\n",
    "\n",
    "        self.channel = self.connection.channel()\n",
    "        \n",
    "        #declaring the callback queue here\n",
    "        result = self.channel.queue_declare(queue='', exclusive=True)\n",
    "        self.callback_queue = result.method.queue\n",
    "    \n",
    "    # sending the request\n",
    "    def call(self, n):\n",
    "        self.response = None\n",
    "        # creates a unique corr_id\n",
    "        self.corr_id = str(uuid.uuid4())\n",
    "        self.channel.basic_publish(\n",
    "            exchange='',\n",
    "            routing_key='rpc_queue',\n",
    "            properties=pika.BasicProperties(\n",
    "                # passing callback queue to reply_to property of the request\n",
    "                reply_to=self.callback_queue,\n",
    "                # passing corr_id as the correlation_id \n",
    "                correlation_id=self.corr_id,\n",
    "            ),\n",
    "            body=str(n))\n",
    "        while self.response is None:\n",
    "            #this one blocks the connection\n",
    "            self.connection.process_data_events()\n",
    "        return int(self.response)"
   ]
  },
  {
   "cell_type": "markdown",
   "metadata": {},
   "source": [
    "## <font color='grey'> Step 2: Server recieves request, callback queue and corr_id </font><br>\n"
   ]
  },
  {
   "cell_type": "code",
   "execution_count": 1,
   "metadata": {},
   "outputs": [],
   "source": [
    "import pika\n",
    "\n",
    "connection = pika.BlockingConnection(\n",
    "    pika.ConnectionParameters(host='localhost'))\n",
    "\n",
    "channel = connection.channel()\n",
    "#rpc_queue declaration\n",
    "channel.queue_declare(queue='rpc_queue')\n",
    "\n",
    "def fib(n):\n",
    "    if n == 0:\n",
    "        return 0\n",
    "    elif n == 1:\n",
    "        return 1\n",
    "    else:\n",
    "        return fib(n - 1) + fib(n - 2)\n",
    "    \n",
    "def on_request(ch, method, props, body):\n",
    "    n = int(body)\n",
    "\n",
    "    print(\" [.] fib(%s)\" % n)\n",
    "    #finds fibnocci \n",
    "    response = fib(n)\n",
    "    \n",
    "    #response sent back to\n",
    "    ch.basic_publish(exchange='',\n",
    "                     # routing key is set here\n",
    "                     routing_key=props.reply_to,\n",
    "                     # correlation id is set inside properties\n",
    "                     properties=pika.BasicProperties(correlation_id = \\\n",
    "                                                         props.correlation_id),\n",
    "                     body=str(response))\n",
    "    \n",
    "    ch.basic_ack(delivery_tag=method.delivery_tag)\n",
    "\n",
    "channel.basic_qos(prefetch_count=1)\n",
    "# when a message is recieved, on_message_callback is set as the on_request method\n",
    "channel.basic_consume(queue='rpc_queue', on_message_callback=on_request)\n",
    "\n",
    "print(\" [x] Awaiting RPC requests\")\n",
    "#W Waiting for RPC requests\n",
    "channel.start_consuming()"
   ]
  },
  {
   "cell_type": "markdown",
   "metadata": {},
   "source": [
    "## <font color='grey'> Step 3: Client waits for the response and compares the correlation id </font><br>\n"
   ]
  },
  {
   "cell_type": "code",
   "execution_count": null,
   "metadata": {},
   "outputs": [],
   "source": [
    "class FibonacciRpcClient(object):\n",
    "\n",
    "    def __init__(self):\n",
    "        self.connection = pika.BlockingConnection(\n",
    "            pika.ConnectionParameters(host='localhost'))\n",
    "\n",
    "        self.channel = self.connection.channel()\n",
    "        \n",
    "        #declaring the callback queue here\n",
    "        result = self.channel.queue_declare(queue='', exclusive=True)\n",
    "        self.callback_queue = result.method.queue\n",
    "        \n",
    "        # Listening to the callback queue\n",
    "        self.channel.basic_consume(\n",
    "            queue=self.callback_queue,\n",
    "            on_message_callback=self.on_response,\n",
    "            auto_ack=True)\n",
    "        \n",
    "    # checking correlation id of the response with the correlation id generated on request\n",
    "    def on_response(self, ch, method, props, body):\n",
    "        if self.corr_id == props.correlation_id:\n",
    "            self.response = body"
   ]
  },
  {
   "cell_type": "markdown",
   "metadata": {},
   "source": [
    "<font color='dimgrey'> <h2> Final Code : Client </h2> </font>"
   ]
  },
  {
   "cell_type": "code",
   "execution_count": null,
   "metadata": {},
   "outputs": [],
   "source": [
    "import pika\n",
    "import uuid\n",
    "\n",
    "class FibonacciRpcClient(object):\n",
    "\n",
    "    def __init__(self):\n",
    "        self.connection = pika.BlockingConnection(\n",
    "            pika.ConnectionParameters(host='localhost'))\n",
    "\n",
    "        self.channel = self.connection.channel()\n",
    "\n",
    "        result = self.channel.queue_declare(queue='', exclusive=True)\n",
    "        self.callback_queue = result.method.queue\n",
    "\n",
    "        self.channel.basic_consume(\n",
    "            queue=self.callback_queue,\n",
    "            on_message_callback=self.on_response,\n",
    "            auto_ack=True)\n",
    "\n",
    "    def on_response(self, ch, method, props, body):\n",
    "        if self.corr_id == props.correlation_id:\n",
    "            self.response = body\n",
    "\n",
    "    def call(self, n):\n",
    "        self.response = None\n",
    "        self.corr_id = str(uuid.uuid4())\n",
    "        self.channel.basic_publish(\n",
    "            exchange='',\n",
    "            routing_key='rpc_queue',\n",
    "            properties=pika.BasicProperties(\n",
    "                reply_to=self.callback_queue,\n",
    "                correlation_id=self.corr_id,\n",
    "            ),\n",
    "            body=str(n))\n",
    "        while self.response is None:\n",
    "            self.connection.process_data_events()\n",
    "        return int(self.response)\n",
    "\n",
    "# initialises the callback queue for this client\n",
    "fibonacci_rpc = FibonacciRpcClient()\n",
    "\n",
    "print(\" [x] Requesting fib(30)\")\n",
    "response = fibonacci_rpc.call(30)\n",
    "print(\" [.] Got %r\" % response)"
   ]
  },
  {
   "cell_type": "markdown",
   "metadata": {},
   "source": [
    "<font color='dimgrey'> <h2> Final Code : Server </h2> </font>"
   ]
  },
  {
   "cell_type": "code",
   "execution_count": null,
   "metadata": {},
   "outputs": [],
   "source": [
    "import pika\n",
    "\n",
    "connection = pika.BlockingConnection(\n",
    "    pika.ConnectionParameters(host='localhost'))\n",
    "\n",
    "channel = connection.channel()\n",
    "# server declares the rpc_queue. Needs to start first\n",
    "channel.queue_declare(queue='rpc_queue')\n",
    "\n",
    "#finds fibonacci\n",
    "def fib(n):\n",
    "    if n == 0:\n",
    "        return 0\n",
    "    elif n == 1:\n",
    "        return 1\n",
    "    else:\n",
    "        return fib(n - 1) + fib(n - 2)\n",
    "\n",
    "# when recieving a request from the client\n",
    "def on_request(ch, method, props, body):\n",
    "    n = int(body)\n",
    "\n",
    "    print(\" [.] fib(%s)\" % n)\n",
    "    response = fib(n)\n",
    "    \n",
    "    # response is published to the callback queue stored in the reply_to arg\n",
    "    ch.basic_publish(exchange='',\n",
    "                     routing_key=props.reply_to,\n",
    "                     properties=pika.BasicProperties(correlation_id = \\\n",
    "                                                         props.correlation_id),\n",
    "                     body=str(response))\n",
    "    ch.basic_ack(delivery_tag=method.delivery_tag)\n",
    "\n",
    "channel.basic_qos(prefetch_count=1)\n",
    "channel.basic_consume(queue='rpc_queue', on_message_callback=on_request)\n",
    "\n",
    "print(\" [x] Awaiting RPC requests\")\n",
    "channel.start_consuming()"
   ]
  },
  {
   "cell_type": "markdown",
   "metadata": {},
   "source": [
    "## <font color='dimgrey'> Testing </font> \n",
    "<t><font color='dimgrey'> We will run the client code from this notebook and we will create another server nodes for serving request. We will run the below code after server nodes have declared queues </font> "
   ]
  },
  {
   "cell_type": "code",
   "execution_count": 9,
   "metadata": {},
   "outputs": [
    {
     "name": "stdout",
     "output_type": "stream",
     "text": [
      " [x] Requesting fib(35)\n",
      " [.] Got 102334155\n"
     ]
    }
   ],
   "source": [
    "import pika\n",
    "import uuid\n",
    "\n",
    "class FibonacciRpcClient(object):\n",
    "\n",
    "    def __init__(self):\n",
    "        self.connection = pika.BlockingConnection(\n",
    "            pika.ConnectionParameters(host='localhost'))\n",
    "\n",
    "        self.channel = self.connection.channel()\n",
    "\n",
    "        result = self.channel.queue_declare(queue='', exclusive=True)\n",
    "        self.callback_queue = result.method.queue\n",
    "\n",
    "        self.channel.basic_consume(\n",
    "            queue=self.callback_queue,\n",
    "            on_message_callback=self.on_response,\n",
    "            auto_ack=True)\n",
    "\n",
    "    def on_response(self, ch, method, props, body):\n",
    "        if self.corr_id == props.correlation_id:\n",
    "            self.response = body\n",
    "\n",
    "    def call(self, n):\n",
    "        self.response = None\n",
    "        self.corr_id = str(uuid.uuid4())\n",
    "        self.channel.basic_publish(\n",
    "            exchange='',\n",
    "            routing_key='rpc_queue',\n",
    "            properties=pika.BasicProperties(\n",
    "                reply_to=self.callback_queue,\n",
    "                correlation_id=self.corr_id,\n",
    "            ),\n",
    "            body=str(n))\n",
    "        while self.response is None:\n",
    "            self.connection.process_data_events()\n",
    "        return int(self.response)\n",
    "\n",
    "# initialises the callback queue for this client\n",
    "fibonacci_rpc = FibonacciRpcClient()\n",
    "\n",
    "print(\" [x] Requesting fib(35)\")\n",
    "response = fibonacci_rpc.call(40)\n",
    "print(\" [.] Got %r\" % response)"
   ]
  },
  {
   "cell_type": "markdown",
   "metadata": {},
   "source": [
    "It waits for the RPC call to get completed"
   ]
  },
  {
   "cell_type": "code",
   "execution_count": null,
   "metadata": {},
   "outputs": [],
   "source": []
  }
 ],
 "metadata": {
  "kernelspec": {
   "display_name": "Python 3",
   "language": "python",
   "name": "python3"
  },
  "language_info": {
   "codemirror_mode": {
    "name": "ipython",
    "version": 3
   },
   "file_extension": ".py",
   "mimetype": "text/x-python",
   "name": "python",
   "nbconvert_exporter": "python",
   "pygments_lexer": "ipython3",
   "version": "3.8.3"
  }
 },
 "nbformat": 4,
 "nbformat_minor": 4
}
