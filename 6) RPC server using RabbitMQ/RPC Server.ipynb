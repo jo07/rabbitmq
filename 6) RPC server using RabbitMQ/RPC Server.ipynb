{
 "cells": [
  {
   "cell_type": "markdown",
   "metadata": {},
   "source": [
    "<font color='dimgrey'> Recieves all the fibonacci call requests here '\\#' </font> "
   ]
  },
  {
   "cell_type": "code",
   "execution_count": 3,
   "metadata": {},
   "outputs": [
    {
     "name": "stdout",
     "output_type": "stream",
     "text": [
      " [x] Awaiting RPC requests\n",
      " [.] fib(35)\n",
      " [.] fib(40)\n",
      " [.] fib(300)\n"
     ]
    }
   ],
   "source": [
    "import pika\n",
    "\n",
    "connection = pika.BlockingConnection(\n",
    "    pika.ConnectionParameters(host='localhost'))\n",
    "\n",
    "channel = connection.channel()\n",
    "# server declares the rpc_queue. Needs to start first\n",
    "channel.queue_declare(queue='rpc_queue')\n",
    "\n",
    "#finds fibonacci\n",
    "def fib(n):\n",
    "    if n == 0:\n",
    "        return 0\n",
    "    elif n == 1:\n",
    "        return 1\n",
    "    else:\n",
    "        return fib(n - 1) + fib(n - 2)\n",
    "\n",
    "# when recieving a request from the client\n",
    "def on_request(ch, method, props, body):\n",
    "    n = int(body)\n",
    "\n",
    "    print(\" [.] fib(%s)\" % n)\n",
    "    response = fib(n)\n",
    "    \n",
    "    # response is published to the callback queue stored in the reply_to arg\n",
    "    ch.basic_publish(exchange='',\n",
    "                     routing_key=props.reply_to,\n",
    "                     properties=pika.BasicProperties(correlation_id = \\\n",
    "                                                         props.correlation_id),\n",
    "                     body=str(response))\n",
    "    ch.basic_ack(delivery_tag=method.delivery_tag)\n",
    "\n",
    "channel.basic_qos(prefetch_count=1)\n",
    "channel.basic_consume(queue='rpc_queue', on_message_callback=on_request)\n",
    "\n",
    "print(\" [x] Awaiting RPC requests\")\n",
    "try:\n",
    "    channel.start_consuming()\n",
    "except KeyboardInterrupt:\n",
    "    # Exit gracefully\n",
    "    connection.close()"
   ]
  },
  {
   "cell_type": "code",
   "execution_count": null,
   "metadata": {},
   "outputs": [],
   "source": []
  }
 ],
 "metadata": {
  "kernelspec": {
   "display_name": "Python 3",
   "language": "python",
   "name": "python3"
  },
  "language_info": {
   "codemirror_mode": {
    "name": "ipython",
    "version": 3
   },
   "file_extension": ".py",
   "mimetype": "text/x-python",
   "name": "python",
   "nbconvert_exporter": "python",
   "pygments_lexer": "ipython3",
   "version": "3.8.3"
  }
 },
 "nbformat": 4,
 "nbformat_minor": 4
}
