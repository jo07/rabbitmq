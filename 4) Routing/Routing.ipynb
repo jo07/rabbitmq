{
 "cells": [
  {
   "cell_type": "markdown",
   "metadata": {},
   "source": [
    "# <font color='dimgrey'>Routing : Direct Exchange </font>\n"
   ]
  },
  {
   "cell_type": "markdown",
   "metadata": {},
   "source": [
    "## <font color='grey'> Till now ... </font>\n",
    "In the last tutorial 'Fanout Exchange' We had producer sending messages via Fanout exchange pushes to all the queues"
   ]
  },
  {
   "cell_type": "markdown",
   "metadata": {},
   "source": [
    "<font color='dimgrey'> In this tutorial  </font>\n",
    "> [Queues are going to subscribe to a subset of messages](https://www.rabbitmq.com/tutorials/tutorial-four-python.html)"
   ]
  },
  {
   "cell_type": "markdown",
   "metadata": {},
   "source": [
    "<font color='dimgrey'> In Fanout exchange we used to have queues binded to the exchanges. In this one we will also have a 'routing_key' parameter which subscribes to messages of same 'routing_key' while publishing it </font>"
   ]
  },
  {
   "cell_type": "markdown",
   "metadata": {},
   "source": [
    "<font color='dimgrey'> <h2> Publishing </h2></font> <font color='dimgrey'>  Sending messages would have an extra 'routing_key' parameter specifying the kind of message to recieve from the exchange </font>"
   ]
  },
  {
   "cell_type": "code",
   "execution_count": null,
   "metadata": {},
   "outputs": [],
   "source": [
    "channel.basic_publish(exchange='direct_logs',\n",
    "                      routing_key=severity,\n",
    "                      body=message)"
   ]
  },
  {
   "cell_type": "markdown",
   "metadata": {},
   "source": [
    "<font color='dimgrey'> <h2> Subscribing </h2></font> <font color='dimgrey'>  New exchange-queue  binding will look like below </font>"
   ]
  },
  {
   "cell_type": "code",
   "execution_count": null,
   "metadata": {},
   "outputs": [],
   "source": [
    "channel.queue_bind(exchange=exchange_name,\n",
    "                   queue=queue_name,\n",
    "                   routing_key='black')"
   ]
  },
  {
   "cell_type": "markdown",
   "metadata": {},
   "source": [
    "<font color='dimgrey'> Instead of </font>"
   ]
  },
  {
   "cell_type": "code",
   "execution_count": null,
   "metadata": {},
   "outputs": [],
   "source": [
    "channel.queue_bind(exchange=exchange_name,\n",
    "                   queue=queue_name)"
   ]
  },
  {
   "cell_type": "markdown",
   "metadata": {},
   "source": [
    "<font color='dimgrey'> In the case of logs, we might have different severity of messages like 'info', 'warning' or 'error'. While some queue needs all the messages to display on a screen while some needs to only store most severe 'error' messages. Direct exchange are gonna let us do just that </font>"
   ]
  },
  {
   "cell_type": "markdown",
   "metadata": {},
   "source": [
    "<font color='dimgrey'> <h3> Subscribing </h3> to more than one message type would look like following: </h3></font>"
   ]
  },
  {
   "cell_type": "code",
   "execution_count": null,
   "metadata": {},
   "outputs": [],
   "source": [
    "result = channel.queue_declare(queue='', exclusive=True)\n",
    "queue_name = result.method.queue\n",
    "\n",
    "for severity in severities:\n",
    "    channel.queue_bind(exchange='direct_logs',\n",
    "                       queue=queue_name,\n",
    "                       routing_key=severity)"
   ]
  },
  {
   "cell_type": "markdown",
   "metadata": {},
   "source": [
    "<font color='dimgrey'> We create multiple bindings with the same exchange and queue for each 'routing_key' type. In our case - severity of the log messages </font>"
   ]
  },
  {
   "cell_type": "markdown",
   "metadata": {},
   "source": [
    "<font color='dimgrey'> <h2> Final Code : Publishing </h2> </font>"
   ]
  },
  {
   "cell_type": "code",
   "execution_count": null,
   "metadata": {},
   "outputs": [],
   "source": [
    "import pika\n",
    "import sys\n",
    "\n",
    "connection = pika.BlockingConnection(\n",
    "    pika.ConnectionParameters(host='localhost'))\n",
    "channel = connection.channel()\n",
    "\n",
    "channel.exchange_declare(exchange='direct_logs', exchange_type='direct')\n",
    "\n",
    "def sendQueue():\n",
    "    try:\n",
    "        while True:\n",
    "            # keep taking input till kernel is interrupted\n",
    "            input_ = input(\"Enter new task\")\n",
    "            severity, message = input_.split()\n",
    "            channel.basic_publish(exchange='direct_logs', routing_key=severity, body=message)\n",
    "            print(\" [x] Sent %r:%r\" % (severity, message))\n",
    "    except KeyboardInterrupt:\n",
    "        # Exit gracefully\n",
    "        connection.close()\n",
    "sendQueue()"
   ]
  },
  {
   "cell_type": "markdown",
   "metadata": {},
   "source": [
    "<font color='dimgrey'> <h2> Final Code : Subscribing </h2> </font>"
   ]
  },
  {
   "cell_type": "code",
   "execution_count": null,
   "metadata": {},
   "outputs": [],
   "source": [
    "import pika\n",
    "import sys\n",
    "\n",
    "connection = pika.BlockingConnection(\n",
    "    pika.ConnectionParameters(host='localhost'))\n",
    "channel = connection.channel()\n",
    "\n",
    "channel.exchange_declare(exchange='direct_logs', exchange_type='direct')\n",
    "\n",
    "result = channel.queue_declare(queue='', exclusive=True)\n",
    "queue_name = result.method.queue\n",
    "\n",
    "severities = input().split()\n",
    "if not severities:\n",
    "    sys.stderr.write(\"Usage: %s [info] [warning] [error]\\n\" % severities[0])\n",
    "    sys.exit(1)\n",
    "\n",
    "for severity in severities:\n",
    "    channel.queue_bind(\n",
    "        exchange='direct_logs', queue=queue_name, routing_key=severity)\n",
    "\n",
    "print(' [*] Waiting for logs. To exit kernel -> Interrupt')\n",
    "\n",
    "\n",
    "def callback(ch, method, properties, body):\n",
    "    print(\" [x] %r:%r\" % (method.routing_key, body))\n",
    "\n",
    "\n",
    "channel.basic_consume(\n",
    "    queue=queue_name, on_message_callback=callback, auto_ack=True)\n",
    "\n",
    "try:\n",
    "    channel.start_consuming()\n",
    "except KeyboardInterrupt:\n",
    "    # Exit gracefully\n",
    "    connection.close()"
   ]
  },
  {
   "cell_type": "markdown",
   "metadata": {},
   "source": [
    "## <font color='dimgrey'> Testing </font> \n",
    "<t><font color='dimgrey'> We will run publisher code from this notebook and we will create two worker nodes for consuming. We will run the below code after subscriber nodes have declared queues </font> "
   ]
  },
  {
   "cell_type": "code",
   "execution_count": 3,
   "metadata": {},
   "outputs": [
    {
     "name": "stdout",
     "output_type": "stream",
     "text": [
      "Enter new taskerror \"error message\"\n",
      " [x] Sent 'error':'\"error message\"'\n",
      "Enter new taskinfo \"info message\"\n",
      " [x] Sent 'info':'\"info message\"'\n"
     ]
    }
   ],
   "source": [
    "import pika\n",
    "import sys\n",
    "\n",
    "connection = pika.BlockingConnection(\n",
    "    pika.ConnectionParameters(host='localhost'))\n",
    "channel = connection.channel()\n",
    "\n",
    "channel.exchange_declare(exchange='direct_logs', exchange_type='direct')\n",
    "\n",
    "def sendQueue():\n",
    "    try:\n",
    "        while True:\n",
    "            # keep taking input till kernel is interrupted\n",
    "            severity, message = input(\"Enter new task\").split(' ', 1)\n",
    "            channel.basic_publish(exchange='direct_logs', routing_key=severity, body=message)\n",
    "            print(\" [x] Sent %r:%r\" % (severity, message))\n",
    "    except KeyboardInterrupt:\n",
    "        # Exit gracefully\n",
    "        connection.close()\n",
    "sendQueue()"
   ]
  },
  {
   "cell_type": "markdown",
   "metadata": {},
   "source": [
    "#### <font color='dimgrey'> As you can see subscriber node 1 recieved only error message as it's subscribed to error and warning message kinds only where as subscriber node 2 has recived both error and info messages. Message of type warning will also be recieved by both the subscribers </font> "
   ]
  },
  {
   "cell_type": "code",
   "execution_count": null,
   "metadata": {},
   "outputs": [],
   "source": [
    ">  <font color='dimgrey'> If every queue subscribes to every kind of message in a direct exchange then that would mean the same thing as using a fanout exchange </font> "
   ]
  }
 ],
 "metadata": {
  "kernelspec": {
   "display_name": "Python 3",
   "language": "python",
   "name": "python3"
  },
  "language_info": {
   "codemirror_mode": {
    "name": "ipython",
    "version": 3
   },
   "file_extension": ".py",
   "mimetype": "text/x-python",
   "name": "python",
   "nbconvert_exporter": "python",
   "pygments_lexer": "ipython3",
   "version": "3.8.3"
  }
 },
 "nbformat": 4,
 "nbformat_minor": 4
}
