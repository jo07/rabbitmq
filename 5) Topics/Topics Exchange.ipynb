{
 "cells": [
  {
   "cell_type": "markdown",
   "metadata": {},
   "source": [
    "# <font color='dimgrey'> Topics : Topics Exchange </font>\n"
   ]
  },
  {
   "cell_type": "markdown",
   "metadata": {},
   "source": [
    "## <font color='grey'> Till now ... </font>\n",
    "<font color='grey'>\n",
    "In the last tutorial 'Direct Exchange' We had producer sending messages via direct exchange pushes to all the queues that has been subscribed to the particular kind of messages in that exchange </font>"
   ]
  },
  {
   "cell_type": "markdown",
   "metadata": {},
   "source": [
    "<font color='dimgrey'> In this tutorial we will learn  </font>\n",
    "> [route queues based on multiple criterias or topics](https://www.rabbitmq.com/tutorials/tutorial-five-python.html)"
   ]
  },
  {
   "cell_type": "markdown",
   "metadata": {},
   "source": [
    "<font color='dimgrey'> <h2> What's different here? </h2></font>"
   ]
  },
  {
   "cell_type": "markdown",
   "metadata": {},
   "source": [
    "> #### <font color='dimgrey'> We will still be using 'routing_key' and instead of a string we will be taking in a list of strings delimited by dots </font>"
   ]
  },
  {
   "cell_type": "markdown",
   "metadata": {},
   "source": [
    "> #### <font color='dimgrey'> Binding key matching are done using </font>\n",
    "<font color='dimgrey'>  1.  Star or '*' to match any one word <br> 2. Hash or '#' to match zero or more words </font>"
   ]
  },
  {
   "cell_type": "markdown",
   "metadata": {},
   "source": [
    "<font color='dimgrey'>\n",
    "Suppose we are subscribing to media reviews and it has 3 categories like 1. Type : Movie or TV 2. Genre : Romance, Action, Comedy etc 3. Rating : PG, PG-13, R etc </font>"
   ]
  },
  {
   "cell_type": "markdown",
   "metadata": {},
   "source": [
    "<font color='dimgrey'>\n",
    "This would become the topic format : \"&lt;type&gt;.&lt;genre&gt;.&lt;rating&gt;\" </font>"
   ]
  },
  {
   "cell_type": "markdown",
   "metadata": {},
   "source": [
    "<font color='dimgrey'> 1. All PG rated comedys : \"\\*.comedy.pg\" <br> 2. All Action tv series : \"tv.action.\\*\" <br> 3. All movies : \"movie.\\#\" <br> 4. Any romance : \"\\*.romance.\\*\"</font>"
   ]
  },
  {
   "cell_type": "markdown",
   "metadata": {},
   "source": [
    "<font color='dimgrey'> <h2> Topic : Superset of fanout and direct </h2></font>"
   ]
  },
  {
   "cell_type": "markdown",
   "metadata": {},
   "source": [
    ">  <font color='dimgrey'> Use a '\\#' as routing_key to make it behave like a fanout </font> <br>\n",
    ">  <font color='dimgrey'> Don't use a '\\#' or a '\\*' in the routing_key to make it behave like a direct exchange </font>"
   ]
  },
  {
   "cell_type": "markdown",
   "metadata": {},
   "source": [
    "<font color='dimgrey'>\n",
    "Code remains mostly same as the last tutorial. Except for the exchange type in the queue declaration which changes to 'topic' instead of 'direct' </font>"
   ]
  },
  {
   "cell_type": "markdown",
   "metadata": {},
   "source": [
    "<font color='dimgrey'> <h2> Final Code : Publishing </h2> </font>"
   ]
  },
  {
   "cell_type": "code",
   "execution_count": null,
   "metadata": {},
   "outputs": [],
   "source": [
    "import pika\n",
    "import sys\n",
    "\n",
    "connection = pika.BlockingConnection(\n",
    "    pika.ConnectionParameters(host='localhost'))\n",
    "channel = connection.channel()\n",
    "\n",
    "channel.exchange_declare(exchange='topic_logs', exchange_type='topic')\n",
    "\n",
    "def sendQueue():\n",
    "    try:\n",
    "        while True:\n",
    "            # keep taking input till kernel is interrupted\n",
    "            input_ = input(\"Enter new task s\")\n",
    "            topics, message = input_.split()\n",
    "            channel.basic_publish(exchange='topic_logs', routing_key=topics, body=message)\n",
    "            print(\" [x] Sent %r:%r\" % (topics, message))\n",
    "    except KeyboardInterrupt:\n",
    "        # Exit gracefully\n",
    "        connection.close()\n",
    "sendQueue()"
   ]
  },
  {
   "cell_type": "markdown",
   "metadata": {},
   "source": [
    "<font color='dimgrey'> <h2> Final Code : Subscribing </h2> </font>"
   ]
  },
  {
   "cell_type": "code",
   "execution_count": null,
   "metadata": {},
   "outputs": [],
   "source": [
    "import pika\n",
    "import sys\n",
    "\n",
    "connection = pika.BlockingConnection(\n",
    "    pika.ConnectionParameters(host='localhost'))\n",
    "channel = connection.channel()\n",
    "\n",
    "channel.exchange_declare(exchange='topic_logs', exchange_type='topic')\n",
    "\n",
    "result = channel.queue_declare(queue='', exclusive=True)\n",
    "queue_name = result.method.queue\n",
    "\n",
    "severities = input().split()\n",
    "if not severities:\n",
    "    sys.stderr.write(\"Usage: %s [info] [warning] [error]\\n\" % severities[0])\n",
    "    sys.exit(1)\n",
    "\n",
    "for severity in severities:\n",
    "    channel.queue_bind(\n",
    "        exchange='topic_logs', queue=queue_name, routing_key=severity)\n",
    "\n",
    "print(' [*] Waiting for logs. To exit kernel -> Interrupt')\n",
    "\n",
    "\n",
    "def callback(ch, method, properties, body):\n",
    "    print(\" [x] %r:%r\" % (method.routing_key, body))\n",
    "\n",
    "\n",
    "channel.basic_consume(\n",
    "    queue=queue_name, on_message_callback=callback, auto_ack=True)\n",
    "\n",
    "try:\n",
    "    channel.start_consuming()\n",
    "except KeyboardInterrupt:\n",
    "    # Exit gracefully\n",
    "    connection.close()"
   ]
  },
  {
   "cell_type": "markdown",
   "metadata": {},
   "source": [
    "## <font color='dimgrey'> Testing </font> \n",
    "<t><font color='dimgrey'> We will run publisher code from this notebook and we will create two worker nodes for subscribing. We will run the below code after subscriber nodes have declared queues </font> "
   ]
  },
  {
   "cell_type": "code",
   "execution_count": 8,
   "metadata": {},
   "outputs": [
    {
     "name": "stdout",
     "output_type": "stream",
     "text": [
      "Enter new tasktv.comedy.pg \"a comedy pg 13 tv series\"\n",
      " [x] Sent 'tv.comedy.pg':'\"a comedy pg 13 tv series\"'\n",
      "Enter new taskmovie.romance.r \" r rated romance movie\"\n",
      " [x] Sent 'movie.romance.r':'\" r rated romance movie\"'\n"
     ]
    }
   ],
   "source": [
    "import pika\n",
    "import sys\n",
    "\n",
    "connection = pika.BlockingConnection(\n",
    "    pika.ConnectionParameters(host='localhost'))\n",
    "channel = connection.channel()\n",
    "\n",
    "channel.exchange_declare(exchange='topic_logs', exchange_type='topic')\n",
    "\n",
    "def sendQueue():\n",
    "    try:\n",
    "        while True:\n",
    "            # keep taking input till kernel is interrupted\n",
    "            input_ = input(\"Enter new task \")\n",
    "            topics, message = input_.split(' ', 1)\n",
    "            channel.basic_publish(exchange='topic_logs', routing_key=topics, body=message)\n",
    "            print(\" [x] Sent %r:%r\" % (topics, message))\n",
    "    except KeyboardInterrupt:\n",
    "        # Exit gracefully\n",
    "        connection.close()\n",
    "sendQueue()"
   ]
  },
  {
   "cell_type": "markdown",
   "metadata": {},
   "source": [
    "#### <font color='dimgrey'> Will learn about RPC in the next tutorial. Adios!!! </font> "
   ]
  },
  {
   "cell_type": "code",
   "execution_count": null,
   "metadata": {},
   "outputs": [],
   "source": []
  }
 ],
 "metadata": {
  "kernelspec": {
   "display_name": "Python 3",
   "language": "python",
   "name": "python3"
  },
  "language_info": {
   "codemirror_mode": {
    "name": "ipython",
    "version": 3
   },
   "file_extension": ".py",
   "mimetype": "text/x-python",
   "name": "python",
   "nbconvert_exporter": "python",
   "pygments_lexer": "ipython3",
   "version": "3.8.3"
  }
 },
 "nbformat": 4,
 "nbformat_minor": 4
}
