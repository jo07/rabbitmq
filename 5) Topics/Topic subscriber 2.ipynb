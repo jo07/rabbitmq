{
 "cells": [
  {
   "cell_type": "markdown",
   "metadata": {},
   "source": [
    "<font color='dimgrey'> Listen to any comedy </font> "
   ]
  },
  {
   "cell_type": "code",
   "execution_count": 1,
   "metadata": {},
   "outputs": [
    {
     "name": "stdout",
     "output_type": "stream",
     "text": [
      "*.comedy.*\n",
      " [*] Waiting for logs. To exit kernel -> Interrupt\n",
      " [x] 'tv.comedy.pg':b'\"a comedy pg 13 tv series\"'\n"
     ]
    }
   ],
   "source": [
    "import pika\n",
    "import sys\n",
    "\n",
    "connection = pika.BlockingConnection(\n",
    "    pika.ConnectionParameters(host='localhost'))\n",
    "channel = connection.channel()\n",
    "\n",
    "channel.exchange_declare(exchange='topic_logs', exchange_type='topic')\n",
    "\n",
    "result = channel.queue_declare(queue='', exclusive=True)\n",
    "queue_name = result.method.queue\n",
    "\n",
    "severities = input().split()\n",
    "if not severities:\n",
    "    sys.stderr.write(\"Usage: %s [info] [warning] [error]\\n\" % severities[0])\n",
    "    sys.exit(1)\n",
    "\n",
    "for severity in severities:\n",
    "    channel.queue_bind(\n",
    "        exchange='topic_logs', queue=queue_name, routing_key=severity)\n",
    "\n",
    "print(' [*] Waiting for logs. To exit kernel -> Interrupt')\n",
    "\n",
    "\n",
    "def callback(ch, method, properties, body):\n",
    "    print(\" [x] %r:%r\" % (method.routing_key, body))\n",
    "\n",
    "\n",
    "channel.basic_consume(\n",
    "    queue=queue_name, on_message_callback=callback, auto_ack=True)\n",
    "\n",
    "try:\n",
    "    channel.start_consuming()\n",
    "except KeyboardInterrupt:\n",
    "    # Exit gracefully\n",
    "    connection.close()"
   ]
  },
  {
   "cell_type": "markdown",
   "metadata": {},
   "source": [
    "<font color='dimgrey'> Only recieved comedy genre reviews </font> "
   ]
  },
  {
   "cell_type": "code",
   "execution_count": null,
   "metadata": {},
   "outputs": [],
   "source": []
  }
 ],
 "metadata": {
  "kernelspec": {
   "display_name": "Python 3",
   "language": "python",
   "name": "python3"
  },
  "language_info": {
   "codemirror_mode": {
    "name": "ipython",
    "version": 3
   },
   "file_extension": ".py",
   "mimetype": "text/x-python",
   "name": "python",
   "nbconvert_exporter": "python",
   "pygments_lexer": "ipython3",
   "version": "3.8.3"
  }
 },
 "nbformat": 4,
 "nbformat_minor": 4
}
