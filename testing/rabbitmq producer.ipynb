{
 "cells": [
  {
   "cell_type": "markdown",
   "metadata": {},
   "source": [
    "# Heavily inspired from the below tutorial, I'll be documenting my 'Intro to RabbitMQ journey' here\n",
    "# https://www.rabbitmq.com/getstarted.html\n"
   ]
  },
  {
   "cell_type": "raw",
   "metadata": {},
   "source": [
    "# RabbitMQ is a messaging broker which means it needs  \n",
    "#   a producer to produce the messages \n",
    "#   a queue to store those messages and \n",
    "#   finally a consumer to consume those messages\n"
   ]
  },
  {
   "cell_type": "raw",
   "metadata": {},
   "source": [
    "# Install RabbitMQ first\n",
    "# https://www.rabbitmq.com/download.html"
   ]
  },
  {
   "cell_type": "raw",
   "metadata": {},
   "source": [
    " Let's start by creating the producer script. \n",
    " We will need pika - Python client recommended by the RabbitMQ team"
   ]
  },
  {
   "cell_type": "code",
   "execution_count": 11,
   "metadata": {},
   "outputs": [
    {
     "name": "stdout",
     "output_type": "stream",
     "text": [
      "Requirement already up-to-date: pika in /Users/jo/opt/anaconda3/lib/python3.8/site-packages (1.2.0)\r\n"
     ]
    }
   ],
   "source": [
    "!python -m pip install pika --upgrade\n"
   ]
  },
  {
   "cell_type": "code",
   "execution_count": 20,
   "metadata": {},
   "outputs": [],
   "source": [
    "import pika\n",
    "\n",
    "connection = pika.BlockingConnection(pika.ConnectionParameters('localhost'))\n",
    "channel = connection.channel()"
   ]
  },
  {
   "cell_type": "raw",
   "metadata": {},
   "source": [
    "Hooray!!! Now we are connected to RabbitMQ locally hosted broker. Lets create a queue to sent the messages to, else where would the messages go"
   ]
  },
  {
   "cell_type": "code",
   "execution_count": 21,
   "metadata": {},
   "outputs": [
    {
     "data": {
      "text/plain": [
       "<METHOD(['channel_number=1', 'frame_type=1', \"method=<Queue.DeclareOk(['consumer_count=0', 'message_count=1', 'queue=hello'])>\"])>"
      ]
     },
     "execution_count": 21,
     "metadata": {},
     "output_type": "execute_result"
    }
   ],
   "source": [
    "channel.queue_declare(queue='hello')"
   ]
  },
  {
   "cell_type": "raw",
   "metadata": {},
   "source": [
    "Now we are ready to send a message to the 'hello' queue and as a typical software engineer does we are gonna send a 'Hello World' message to the queue"
   ]
  },
  {
   "cell_type": "code",
   "execution_count": 22,
   "metadata": {},
   "outputs": [],
   "source": [
    "channel.basic_publish(exchange='', routing_key='hello', body='Hello World!')"
   ]
  },
  {
   "cell_type": "raw",
   "metadata": {},
   "source": [
    "Seems like that worked, let's test it out then"
   ]
  },
  {
   "cell_type": "code",
   "execution_count": null,
   "metadata": {},
   "outputs": [],
   "source": []
  },
  {
   "cell_type": "code",
   "execution_count": null,
   "metadata": {},
   "outputs": [],
   "source": []
  }
 ],
 "metadata": {
  "kernelspec": {
   "display_name": "Python 3",
   "language": "python",
   "name": "python3"
  },
  "language_info": {
   "codemirror_mode": {
    "name": "ipython",
    "version": 3
   },
   "file_extension": ".py",
   "mimetype": "text/x-python",
   "name": "python",
   "nbconvert_exporter": "python",
   "pygments_lexer": "ipython3",
   "version": "3.8.3"
  }
 },
 "nbformat": 4,
 "nbformat_minor": 4
}
